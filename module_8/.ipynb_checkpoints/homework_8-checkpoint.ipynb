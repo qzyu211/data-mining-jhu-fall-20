{
 "cells": [
  {
   "cell_type": "code",
   "execution_count": null,
   "metadata": {},
   "outputs": [],
   "source": [
    "# https://courses.cs.washington.edu/courses/cse446/18wi/sections/section8/XOR-Pytorch.html"
   ]
  },
  {
   "cell_type": "markdown",
   "metadata": {},
   "source": [
    "# Example"
   ]
  },
  {
   "cell_type": "code",
   "execution_count": 102,
   "metadata": {},
   "outputs": [
    {
     "data": {
      "text/plain": [
       "<torch._C.Generator at 0x7f98c10c5890>"
      ]
     },
     "execution_count": 102,
     "metadata": {},
     "output_type": "execute_result"
    }
   ],
   "source": [
    "import torch\n",
    "from torch.autograd import Variable\n",
    "import torch.nn as nn\n",
    "import torch.nn.functional as F\n",
    "import torch.optim as optim\n",
    "import numpy as np\n",
    "import matplotlib.pyplot as plt\n",
    "\n",
    "from graphviz import Digraph\n",
    "# make_dot was moved to https://github.com/szagoruyko/pytorchviz\n",
    "from torchviz import make_dot\n",
    "\n",
    "%matplotlib inline\n",
    "torch.manual_seed(2)"
   ]
  },
  {
   "cell_type": "code",
   "execution_count": null,
   "metadata": {},
   "outputs": [],
   "source": [
    "X = torch.Tensor([[0,0],[0,1], [1,0], [1,1]])\n",
    "Y = torch.Tensor([0,1,1,0]).view(-1,1)"
   ]
  },
  {
   "cell_type": "code",
   "execution_count": null,
   "metadata": {},
   "outputs": [],
   "source": [
    "X"
   ]
  },
  {
   "cell_type": "code",
   "execution_count": null,
   "metadata": {},
   "outputs": [],
   "source": [
    "Y"
   ]
  },
  {
   "cell_type": "code",
   "execution_count": null,
   "metadata": {},
   "outputs": [],
   "source": [
    "class XOR(nn.Module):\n",
    "    def __init__(self, input_dim = 2, output_dim=1):\n",
    "        super(XOR, self).__init__()\n",
    "        self.lin1 = nn.Linear(input_dim, 2)\n",
    "        self.lin2 = nn.Linear(2, output_dim)\n",
    "    \n",
    "    def forward(self, x):\n",
    "        x = self.lin1(x)\n",
    "        x = F.sigmoid(x)\n",
    "        x = self.lin2(x)\n",
    "        return x"
   ]
  },
  {
   "cell_type": "code",
   "execution_count": null,
   "metadata": {},
   "outputs": [],
   "source": [
    "model = XOR()\n",
    "\n",
    "def weights_init(model):\n",
    "    for m in model.modules():\n",
    "        if isinstance(m, nn.Linear):\n",
    "            # initialize the weight tensor, here we use a normal distribution\n",
    "            m.weight.data.normal_(0, 1)\n",
    "\n",
    "weights_init(model)\n",
    "\n",
    "loss_func = nn.MSELoss()\n",
    "\n",
    "optimizer = optim.SGD(model.parameters(), lr=0.02, momentum=0.9)\n",
    "\n",
    "epochs = 2001\n",
    "steps = X.size(0)\n",
    "for i in range(epochs):\n",
    "    for j in range(steps):\n",
    "        data_point = np.random.randint(X.size(0))\n",
    "        x_var = Variable(X[data_point], requires_grad=False)\n",
    "        y_var = Variable(Y[data_point], requires_grad=False)\n",
    "        \n",
    "        optimizer.zero_grad()\n",
    "        y_hat = model(x_var)\n",
    "        loss = loss_func.forward(y_hat, y_var)\n",
    "        loss.backward()\n",
    "        optimizer.step()\n",
    "        \n",
    "    if (i % 500 == 0):\n",
    "        print(\"Epoch: {0}, Loss: {1}, \".format(i, loss.data.numpy()))"
   ]
  },
  {
   "cell_type": "code",
   "execution_count": null,
   "metadata": {},
   "outputs": [],
   "source": [
    "model_params = list(model.parameters())\n",
    "\n",
    "model_weights = model_params[0].data.numpy()\n",
    "model_bias = model_params[1].data.numpy()\n",
    "\n",
    "plt.scatter(X.numpy()[[0,-1], 0], X.numpy()[[0, -1], 1], s=50)\n",
    "plt.scatter(X.numpy()[[1,2], 0], X.numpy()[[1, 2], 1], c='red', s=50)\n",
    "\n",
    "x_1 = np.arange(-0.1, 1.1, 0.1)\n",
    "y_1 = ((x_1 * model_weights[0,0]) + model_bias[0]) / (-model_weights[0,1])\n",
    "plt.plot(x_1, y_1)\n",
    "\n",
    "x_2 = np.arange(-0.1, 1.1, 0.1)\n",
    "y_2 = ((x_2 * model_weights[1,0]) + model_bias[1]) / (-model_weights[1,1])\n",
    "plt.plot(x_2, y_2)\n",
    "plt.legend([\"neuron_1\", \"neuron_2\"], loc=8)\n",
    "plt.show()"
   ]
  },
  {
   "cell_type": "code",
   "execution_count": null,
   "metadata": {},
   "outputs": [],
   "source": [
    "# https://stackoverflow.com/questions/54916135/what-is-the-class-definition-of-nn-linear-in-pytorch"
   ]
  },
  {
   "cell_type": "code",
   "execution_count": null,
   "metadata": {},
   "outputs": [],
   "source": [
    "# y = x.matmul(m.weight.t()) + m.bias  # y = x*W^T + b"
   ]
  },
  {
   "cell_type": "markdown",
   "metadata": {},
   "source": [
    "# Sigmoid $f(x)$"
   ]
  },
  {
   "cell_type": "code",
   "execution_count": 107,
   "metadata": {},
   "outputs": [],
   "source": [
    "def sigmoid(x):\n",
    "    return 1 / (1 + np.exp(-x))"
   ]
  },
  {
   "cell_type": "markdown",
   "metadata": {},
   "source": [
    "# Problem 1"
   ]
  },
  {
   "cell_type": "code",
   "execution_count": 108,
   "metadata": {},
   "outputs": [],
   "source": [
    "X = torch.Tensor([[1, 1, 1],\n",
    "                  [1, 1, 0],\n",
    "                  [1, 0, 1],\n",
    "                  [1, 0, 0],\n",
    "                  [0, 1, 1],\n",
    "                  [0, 1, 0],\n",
    "                  [0, 0, 1],\n",
    "                  [0, 0, 0]])\n",
    "\n",
    "Y = torch.Tensor([0,0,0,0,0,1,0,0]).view(-1,1)"
   ]
  },
  {
   "cell_type": "code",
   "execution_count": 109,
   "metadata": {},
   "outputs": [
    {
     "name": "stdout",
     "output_type": "stream",
     "text": [
      "Epoch: 0, Loss: 0.15097211301326752, \n",
      "Epoch: 1000, Loss: 1.5212710025025444e-07, \n",
      "Epoch: 2000, Loss: 0.002448231913149357, \n",
      "Epoch: 3000, Loss: 0.0008955704979598522, \n",
      "Epoch: 4000, Loss: 0.0007349306251853704, \n",
      "Epoch: 5000, Loss: 0.000524768780451268, \n",
      "Epoch: 6000, Loss: 0.0014704059576615691, \n",
      "Epoch: 7000, Loss: 3.4030961382214286e-10, \n",
      "Epoch: 8000, Loss: 8.58244023881252e-17, \n",
      "Epoch: 9000, Loss: 4.537853283461806e-17, \n",
      "Epoch: 10000, Loss: 2.5456016821453947e-17, \n"
     ]
    }
   ],
   "source": [
    "class Problem1(nn.Module):\n",
    "    def __init__(self, input_dim = 3):\n",
    "        super(Problem1, self).__init__()\n",
    "        self.lin1 = nn.Linear(input_dim, 1)\n",
    "    \n",
    "    def forward(self, x):\n",
    "        x = self.lin1(x)\n",
    "        x = F.sigmoid(x)\n",
    "        return x\n",
    "\n",
    "model1 = Problem1()\n",
    "\n",
    "def weights_init(model):\n",
    "    for m in model.modules():\n",
    "        if isinstance(m, nn.Linear):\n",
    "            # initialize the weight tensor, here we use a normal distribution\n",
    "            m.weight.data.normal_(0, 1)\n",
    "\n",
    "weights_init(model1)\n",
    "\n",
    "loss_func = nn.MSELoss()\n",
    "\n",
    "optimizer = optim.SGD(model1.parameters(), lr=0.02, momentum=0.9)\n",
    "\n",
    "epochs = int(1e4 + 1.)\n",
    "steps = X.size(0)\n",
    "for i in range(epochs):\n",
    "    for j in range(steps):\n",
    "        data_point = np.random.randint(X.size(0))\n",
    "        x_var = Variable(X[data_point], requires_grad=False)\n",
    "        y_var = Variable(Y[data_point], requires_grad=False)\n",
    "        \n",
    "        optimizer.zero_grad()\n",
    "        y_hat = model1(x_var)\n",
    "        loss = loss_func.forward(y_hat, y_var)\n",
    "        loss.backward()\n",
    "        optimizer.step()\n",
    "        \n",
    "    if (i % 1e3 == 0):\n",
    "        print(\"Epoch: {0}, Loss: {1}, \".format(i, loss.data.numpy()))"
   ]
  },
  {
   "cell_type": "code",
   "execution_count": 110,
   "metadata": {},
   "outputs": [
    {
     "name": "stdout",
     "output_type": "stream",
     "text": [
      "tensor([8.1418e-06], grad_fn=<SigmoidBackward>)\n",
      "tensor([0.0162], grad_fn=<SigmoidBackward>)\n",
      "tensor([5.0454e-09], grad_fn=<SigmoidBackward>)\n",
      "tensor([1.0229e-05], grad_fn=<SigmoidBackward>)\n",
      "tensor([0.0162], grad_fn=<SigmoidBackward>)\n",
      "tensor([0.9709], grad_fn=<SigmoidBackward>)\n",
      "tensor([1.0185e-05], grad_fn=<SigmoidBackward>)\n",
      "tensor([0.0202], grad_fn=<SigmoidBackward>)\n"
     ]
    }
   ],
   "source": [
    "for i in range(len(Y)):\n",
    "    print(model1(X[i,]))"
   ]
  },
  {
   "cell_type": "code",
   "execution_count": 111,
   "metadata": {},
   "outputs": [
    {
     "data": {
      "text/plain": [
       "tensor([[0.],\n",
       "        [0.],\n",
       "        [0.],\n",
       "        [0.],\n",
       "        [0.],\n",
       "        [1.],\n",
       "        [0.],\n",
       "        [0.]])"
      ]
     },
     "execution_count": 111,
     "metadata": {},
     "output_type": "execute_result"
    }
   ],
   "source": [
    "Y"
   ]
  },
  {
   "cell_type": "code",
   "execution_count": 112,
   "metadata": {},
   "outputs": [],
   "source": [
    "model_params = list(model1.parameters())\n",
    "\n",
    "model_weights = model_params[0].data.numpy()\n",
    "model_bias = model_params[1].data.numpy()"
   ]
  },
  {
   "cell_type": "code",
   "execution_count": 113,
   "metadata": {},
   "outputs": [
    {
     "data": {
      "text/plain": [
       "array([[-7.6101837,  7.386306 , -7.614557 ]], dtype=float32)"
      ]
     },
     "execution_count": 113,
     "metadata": {},
     "output_type": "execute_result"
    }
   ],
   "source": [
    "model_weights"
   ]
  },
  {
   "cell_type": "code",
   "execution_count": 114,
   "metadata": {},
   "outputs": [
    {
     "data": {
      "text/plain": [
       "array([-3.880053], dtype=float32)"
      ]
     },
     "execution_count": 114,
     "metadata": {},
     "output_type": "execute_result"
    }
   ],
   "source": [
    "model_bias"
   ]
  },
  {
   "cell_type": "code",
   "execution_count": 115,
   "metadata": {
    "scrolled": true
   },
   "outputs": [
    {
     "data": {
      "text/plain": [
       "tensor([8.1418e-06])"
      ]
     },
     "execution_count": 115,
     "metadata": {},
     "output_type": "execute_result"
    }
   ],
   "source": [
    "sigmoid(X[0,] @ model_weights.T + model_bias)"
   ]
  },
  {
   "cell_type": "code",
   "execution_count": 101,
   "metadata": {},
   "outputs": [
    {
     "data": {
      "text/plain": [
       "'Digraph.gv.pdf'"
      ]
     },
     "execution_count": 101,
     "metadata": {},
     "output_type": "execute_result"
    }
   ],
   "source": [
    "# https://www.programmersought.com/article/479977857/\n",
    "model_params = list(model1.parameters())\n",
    "\n",
    "vis_graph = make_dot(model1(X[1,]), params=dict(model1.named_parameters()))\n",
    "vis_graph.view()"
   ]
  },
  {
   "cell_type": "markdown",
   "metadata": {},
   "source": [
    "# Problem 2"
   ]
  },
  {
   "cell_type": "code",
   "execution_count": 116,
   "metadata": {},
   "outputs": [],
   "source": [
    "# x1, x2, x3...!x2...!x2x3\n",
    "# 1, 1, 1; 0; 0\n",
    "# 1, 1, 0; 0; 0\n",
    "# 1, 0, 1; 1; 1\n",
    "# 1, 0, 0; 1; 0\n",
    "# 0, 1, 1; 0; 0\n",
    "# 0, 1, 0; 0; 0\n",
    "# 0, 0, 1; 1; 1\n",
    "# 0, 0, 0; 1; 0"
   ]
  },
  {
   "cell_type": "code",
   "execution_count": 117,
   "metadata": {},
   "outputs": [],
   "source": [
    "X = torch.Tensor([[1, 1, 1],\n",
    "                  [1, 1, 0],\n",
    "                  [1, 0, 1],\n",
    "                  [1, 0, 0],\n",
    "                  [0, 1, 1],\n",
    "                  [0, 1, 0],\n",
    "                  [0, 0, 1],\n",
    "                  [0, 0, 0]])\n",
    "\n",
    "Y = torch.Tensor([0,0,1,0,0,0,1,0]).view(-1,1)"
   ]
  },
  {
   "cell_type": "code",
   "execution_count": 118,
   "metadata": {},
   "outputs": [
    {
     "name": "stdout",
     "output_type": "stream",
     "text": [
      "Epoch: 0, Loss: 0.1447976529598236, \n",
      "Epoch: 1000, Loss: 0.00292785232886672, \n",
      "Epoch: 2000, Loss: 0.0016137018101289868, \n",
      "Epoch: 3000, Loss: 3.9002445717528644e-10, \n",
      "Epoch: 4000, Loss: 0.00046811302308924496, \n",
      "Epoch: 5000, Loss: 0.0004596796352416277, \n",
      "Epoch: 6000, Loss: 0.0005072902422398329, \n",
      "Epoch: 7000, Loss: 2.583605551720325e-11, \n",
      "Epoch: 8000, Loss: 0.00030081841396167874, \n",
      "Epoch: 9000, Loss: 0.00019594523473642766, \n",
      "Epoch: 10000, Loss: 0.00017765465599950403, \n"
     ]
    }
   ],
   "source": [
    "class Problem2(nn.Module):\n",
    "    def __init__(self, input_dim = 3):\n",
    "        super(Problem2, self).__init__()\n",
    "        self.lin1 = nn.Linear(input_dim, 1)\n",
    "    \n",
    "    def forward(self, x):\n",
    "        x = self.lin1(x)\n",
    "        x = F.sigmoid(x)\n",
    "        return x\n",
    "\n",
    "model2 = Problem2()\n",
    "\n",
    "def weights_init(model):\n",
    "    for m in model.modules():\n",
    "        if isinstance(m, nn.Linear):\n",
    "            # initialize the weight tensor, here we use a normal distribution\n",
    "            m.weight.data.normal_(0, 1)\n",
    "\n",
    "weights_init(model2)\n",
    "\n",
    "loss_func = nn.MSELoss()\n",
    "\n",
    "optimizer = optim.SGD(model2.parameters(), lr=0.02, momentum=0.9)\n",
    "\n",
    "epochs = int(1e4 + 1.)\n",
    "steps = X.size(0)\n",
    "for i in range(epochs):\n",
    "    for j in range(steps):\n",
    "        data_point = np.random.randint(X.size(0))\n",
    "        x_var = Variable(X[data_point], requires_grad=False)\n",
    "        y_var = Variable(Y[data_point], requires_grad=False)\n",
    "        \n",
    "        optimizer.zero_grad()\n",
    "        y_hat = model2(x_var)\n",
    "        loss = loss_func.forward(y_hat, y_var)\n",
    "        loss.backward()\n",
    "        optimizer.step()\n",
    "        \n",
    "    if (i % 1e3 == 0):\n",
    "        print(\"Epoch: {0}, Loss: {1}, \".format(i, loss.data.numpy()))"
   ]
  },
  {
   "cell_type": "code",
   "execution_count": 119,
   "metadata": {},
   "outputs": [
    {
     "name": "stdout",
     "output_type": "stream",
     "text": [
      "tensor([0.0108], grad_fn=<SigmoidBackward>)\n",
      "tensor([2.5829e-06], grad_fn=<SigmoidBackward>)\n",
      "tensor([0.9828], grad_fn=<SigmoidBackward>)\n",
      "tensor([0.0133], grad_fn=<SigmoidBackward>)\n",
      "tensor([0.0121], grad_fn=<SigmoidBackward>)\n",
      "tensor([2.9052e-06], grad_fn=<SigmoidBackward>)\n",
      "tensor([0.9847], grad_fn=<SigmoidBackward>)\n",
      "tensor([0.0150], grad_fn=<SigmoidBackward>)\n"
     ]
    }
   ],
   "source": [
    "for i in range(len(Y)):\n",
    "    print(model2(X[i,]))"
   ]
  },
  {
   "cell_type": "code",
   "execution_count": 120,
   "metadata": {},
   "outputs": [
    {
     "data": {
      "text/plain": [
       "tensor([[0.],\n",
       "        [0.],\n",
       "        [1.],\n",
       "        [0.],\n",
       "        [0.],\n",
       "        [0.],\n",
       "        [1.],\n",
       "        [0.]])"
      ]
     },
     "execution_count": 120,
     "metadata": {},
     "output_type": "execute_result"
    }
   ],
   "source": [
    "Y"
   ]
  },
  {
   "cell_type": "code",
   "execution_count": 121,
   "metadata": {},
   "outputs": [],
   "source": [
    "model_params = list(model2.parameters())\n",
    "\n",
    "model_weights = model_params[0].data.numpy()\n",
    "model_bias = model_params[1].data.numpy()"
   ]
  },
  {
   "cell_type": "code",
   "execution_count": 122,
   "metadata": {},
   "outputs": [
    {
     "data": {
      "text/plain": [
       "array([[-0.11761699, -8.562145  ,  8.348996  ]], dtype=float32)"
      ]
     },
     "execution_count": 122,
     "metadata": {},
     "output_type": "execute_result"
    }
   ],
   "source": [
    "model_weights"
   ]
  },
  {
   "cell_type": "code",
   "execution_count": 123,
   "metadata": {},
   "outputs": [
    {
     "data": {
      "text/plain": [
       "array([-4.186845], dtype=float32)"
      ]
     },
     "execution_count": 123,
     "metadata": {},
     "output_type": "execute_result"
    }
   ],
   "source": [
    "model_bias"
   ]
  },
  {
   "cell_type": "code",
   "execution_count": 124,
   "metadata": {},
   "outputs": [
    {
     "data": {
      "text/plain": [
       "tensor([0.0108])"
      ]
     },
     "execution_count": 124,
     "metadata": {},
     "output_type": "execute_result"
    }
   ],
   "source": [
    "sigmoid(X[0,] @ model_weights.T + model_bias)"
   ]
  },
  {
   "cell_type": "markdown",
   "metadata": {},
   "source": [
    "# Problem 3"
   ]
  },
  {
   "cell_type": "code",
   "execution_count": 125,
   "metadata": {},
   "outputs": [],
   "source": [
    "# x1, x2, x3...ans\n",
    "# 1, 1, 1; 1\n",
    "# 1, 1, 0; 0\n",
    "# 1, 0, 1; 0\n",
    "# 1, 0, 0; 0\n",
    "# 0, 1, 1; 0\n",
    "# 0, 1, 0; 0\n",
    "# 0, 0, 1; 0\n",
    "# 0, 0, 0; 1"
   ]
  },
  {
   "cell_type": "code",
   "execution_count": 126,
   "metadata": {},
   "outputs": [],
   "source": [
    "X = torch.Tensor([[1, 1, 1],\n",
    "                  [1, 1, 0],\n",
    "                  [1, 0, 1],\n",
    "                  [1, 0, 0],\n",
    "                  [0, 1, 1],\n",
    "                  [0, 1, 0],\n",
    "                  [0, 0, 1],\n",
    "                  [0, 0, 0]])\n",
    "\n",
    "Y = torch.Tensor([1,0,0,0,0,0,0,1]).view(-1,1)"
   ]
  },
  {
   "cell_type": "code",
   "execution_count": 134,
   "metadata": {
    "scrolled": true
   },
   "outputs": [
    {
     "name": "stdout",
     "output_type": "stream",
     "text": [
      "Epoch: 0, Loss: 0.28141430020332336, \n",
      "Epoch: 5000, Loss: 0.0003657008637674153, \n",
      "Epoch: 10000, Loss: 0.00013837561709806323, \n"
     ]
    }
   ],
   "source": [
    "class Problem3(nn.Module):\n",
    "    def __init__(self, input_dim = 3, output_dim=1, hidden_dim=5):\n",
    "        super(Problem3, self).__init__()\n",
    "        self.lin1 = nn.Linear(input_dim, hidden_dim)\n",
    "        self.lin2 = nn.Linear(hidden_dim, output_dim)\n",
    "    \n",
    "    def forward(self, x):\n",
    "        x = self.lin1(x)\n",
    "        x = F.sigmoid(x)\n",
    "        x = self.lin2(x)\n",
    "        x = F.sigmoid(x)\n",
    "        return x\n",
    "\n",
    "model3 = Problem3()\n",
    "\n",
    "def weights_init(model):\n",
    "    for m in model.modules():\n",
    "        if isinstance(m, nn.Linear):\n",
    "            # initialize the weight tensor, here we use a normal distribution\n",
    "            m.weight.data.normal_(0, 1)\n",
    "\n",
    "weights_init(model3)\n",
    "\n",
    "loss_func = nn.MSELoss()\n",
    "\n",
    "optimizer = optim.SGD(model3.parameters(), lr=0.02, momentum=0.9)\n",
    "\n",
    "epochs = int(1e4 + 1.)\n",
    "steps = X.size(0)\n",
    "for i in range(epochs):\n",
    "    for j in range(steps):\n",
    "        data_point = np.random.randint(X.size(0))\n",
    "        x_var = Variable(X[data_point], requires_grad=False)\n",
    "        y_var = Variable(Y[data_point], requires_grad=False)\n",
    "        \n",
    "        optimizer.zero_grad()\n",
    "        y_hat = model3(x_var)\n",
    "        loss = loss_func.forward(y_hat, y_var)\n",
    "        loss.backward()\n",
    "        optimizer.step()\n",
    "        \n",
    "    if (i % 5e3 == 0):\n",
    "        print(\"Epoch: {0}, Loss: {1}, \".format(i, loss.data.numpy()))"
   ]
  },
  {
   "cell_type": "code",
   "execution_count": 135,
   "metadata": {},
   "outputs": [
    {
     "name": "stdout",
     "output_type": "stream",
     "text": [
      "tensor([0.9787], grad_fn=<SigmoidBackward>)\n",
      "tensor([0.0118], grad_fn=<SigmoidBackward>)\n",
      "tensor([0.0121], grad_fn=<SigmoidBackward>)\n",
      "tensor([0.0055], grad_fn=<SigmoidBackward>)\n",
      "tensor([0.0149], grad_fn=<SigmoidBackward>)\n",
      "tensor([0.0098], grad_fn=<SigmoidBackward>)\n",
      "tensor([0.0072], grad_fn=<SigmoidBackward>)\n",
      "tensor([0.9852], grad_fn=<SigmoidBackward>)\n"
     ]
    }
   ],
   "source": [
    "for i in range(len(Y)):\n",
    "    print(model3(X[i,]))\n",
    "#     print(model3(X[i,]), F.sigmoid(F.sigmoid(X[i,] @ W1.T + b1) @ W2.T + b2))"
   ]
  },
  {
   "cell_type": "code",
   "execution_count": 136,
   "metadata": {},
   "outputs": [
    {
     "data": {
      "text/plain": [
       "tensor([[1.],\n",
       "        [0.],\n",
       "        [0.],\n",
       "        [0.],\n",
       "        [0.],\n",
       "        [0.],\n",
       "        [0.],\n",
       "        [1.]])"
      ]
     },
     "execution_count": 136,
     "metadata": {},
     "output_type": "execute_result"
    }
   ],
   "source": [
    "Y"
   ]
  },
  {
   "cell_type": "code",
   "execution_count": 137,
   "metadata": {},
   "outputs": [],
   "source": [
    "model_params = list(model3.parameters())"
   ]
  },
  {
   "cell_type": "code",
   "execution_count": 138,
   "metadata": {},
   "outputs": [
    {
     "data": {
      "text/plain": [
       "[Parameter containing:\n",
       " tensor([[-4.8960,  3.0015,  3.1421],\n",
       "         [ 3.0452,  2.3374,  2.1497],\n",
       "         [ 4.6246,  5.7488,  5.4122],\n",
       "         [-0.6025, -1.4961,  4.4929],\n",
       "         [ 3.8875,  2.1354, -2.6413]], requires_grad=True),\n",
       " Parameter containing:\n",
       " tensor([ 0.9898, -6.1660, -2.6799,  0.4270, -1.5372], requires_grad=True),\n",
       " Parameter containing:\n",
       " tensor([[  4.0389,   7.2320, -12.4403,   3.7324,   5.1744]],\n",
       "        requires_grad=True),\n",
       " Parameter containing:\n",
       " tensor([-1.1351], requires_grad=True)]"
      ]
     },
     "execution_count": 138,
     "metadata": {},
     "output_type": "execute_result"
    }
   ],
   "source": [
    "model_params"
   ]
  },
  {
   "cell_type": "code",
   "execution_count": 139,
   "metadata": {},
   "outputs": [],
   "source": [
    "# W1; (10x3) b1; (10,1); W2; (1,10); b2; (1,1)"
   ]
  },
  {
   "cell_type": "code",
   "execution_count": 140,
   "metadata": {},
   "outputs": [
    {
     "data": {
      "text/plain": [
       "(torch.Size([5, 3]), torch.Size([5]), torch.Size([1, 5]), torch.Size([1]))"
      ]
     },
     "execution_count": 140,
     "metadata": {},
     "output_type": "execute_result"
    }
   ],
   "source": [
    "model_params[0].shape, model_params[1].shape, model_params[2].shape, model_params[3].shape"
   ]
  },
  {
   "cell_type": "code",
   "execution_count": 141,
   "metadata": {},
   "outputs": [],
   "source": [
    "W1 = model_params[0].data.numpy()\n",
    "b1 = model_params[1].data.numpy()\n",
    "W2 = model_params[2].data.numpy()\n",
    "b2 = model_params[3].data.numpy()"
   ]
  },
  {
   "cell_type": "code",
   "execution_count": 142,
   "metadata": {},
   "outputs": [
    {
     "data": {
      "text/plain": [
       "tensor([0.9787])"
      ]
     },
     "execution_count": 142,
     "metadata": {},
     "output_type": "execute_result"
    }
   ],
   "source": [
    "F.sigmoid(F.sigmoid(X[0,] @ W1.T + b1) @ W2.T + b2)"
   ]
  },
  {
   "cell_type": "markdown",
   "metadata": {},
   "source": [
    "# Problem 4"
   ]
  },
  {
   "cell_type": "code",
   "execution_count": 143,
   "metadata": {},
   "outputs": [],
   "source": [
    "# x1, x2, x3...ans\n",
    "# 1, 1, 1; 1\n",
    "# 1, 1, 0; 1\n",
    "# 1, 0, 1; 1\n",
    "# 1, 0, 0; 1\n",
    "# 0, 1, 1; 0\n",
    "# 0, 1, 0; 0\n",
    "# 0, 0, 1; 0\n",
    "# 0, 0, 0; 0"
   ]
  },
  {
   "cell_type": "code",
   "execution_count": 144,
   "metadata": {},
   "outputs": [],
   "source": [
    "X = torch.Tensor([[1, 1, 1],\n",
    "                  [1, 1, 0],\n",
    "                  [1, 0, 1],\n",
    "                  [1, 0, 0],\n",
    "                  [0, 1, 1],\n",
    "                  [0, 1, 0],\n",
    "                  [0, 0, 1],\n",
    "                  [0, 0, 0]])\n",
    "\n",
    "Y = torch.Tensor([1,1,1,1,0,0,0,0]).view(-1,1)"
   ]
  },
  {
   "cell_type": "code",
   "execution_count": 145,
   "metadata": {},
   "outputs": [
    {
     "name": "stdout",
     "output_type": "stream",
     "text": [
      "Epoch: 0, Loss: 0.4598313868045807, \n",
      "Epoch: 5000, Loss: 8.776505273999646e-05, \n",
      "Epoch: 10000, Loss: 3.2205825846176594e-05, \n"
     ]
    }
   ],
   "source": [
    "class Problem4(nn.Module):\n",
    "    def __init__(self, input_dim = 3, output_dim=1, hidden_dim=5):\n",
    "        super(Problem4, self).__init__()\n",
    "        self.lin1 = nn.Linear(input_dim, hidden_dim)\n",
    "        self.lin2 = nn.Linear(hidden_dim, output_dim)\n",
    "    \n",
    "    def forward(self, x):\n",
    "        x = self.lin1(x)\n",
    "        x = F.sigmoid(x)\n",
    "        x = self.lin2(x)\n",
    "        x = F.sigmoid(x)\n",
    "        return x\n",
    "\n",
    "model4 = Problem4()\n",
    "\n",
    "def weights_init(model):\n",
    "    for m in model.modules():\n",
    "        if isinstance(m, nn.Linear):\n",
    "            # initialize the weight tensor, here we use a normal distribution\n",
    "            m.weight.data.normal_(0, 1)\n",
    "\n",
    "weights_init(model4)\n",
    "\n",
    "loss_func = nn.MSELoss()\n",
    "\n",
    "optimizer = optim.SGD(model4.parameters(), lr=0.02, momentum=0.9)\n",
    "\n",
    "epochs = int(1e4 + 1.)\n",
    "steps = X.size(0)\n",
    "for i in range(epochs):\n",
    "    for j in range(steps):\n",
    "        data_point = np.random.randint(X.size(0))\n",
    "        x_var = Variable(X[data_point], requires_grad=False)\n",
    "        y_var = Variable(Y[data_point], requires_grad=False)\n",
    "        \n",
    "        optimizer.zero_grad()\n",
    "        y_hat = model4(x_var)\n",
    "        loss = loss_func.forward(y_hat, y_var)\n",
    "        loss.backward()\n",
    "        optimizer.step()\n",
    "        \n",
    "    if (i % 5e3 == 0):\n",
    "        print(\"Epoch: {0}, Loss: {1}, \".format(i, loss.data.numpy()))"
   ]
  },
  {
   "cell_type": "code",
   "execution_count": 146,
   "metadata": {},
   "outputs": [
    {
     "name": "stdout",
     "output_type": "stream",
     "text": [
      "tensor([0.9936], grad_fn=<SigmoidBackward>)\n",
      "tensor([0.9943], grad_fn=<SigmoidBackward>)\n",
      "tensor([0.9940], grad_fn=<SigmoidBackward>)\n",
      "tensor([0.9945], grad_fn=<SigmoidBackward>)\n",
      "tensor([0.0043], grad_fn=<SigmoidBackward>)\n",
      "tensor([0.0054], grad_fn=<SigmoidBackward>)\n",
      "tensor([0.0048], grad_fn=<SigmoidBackward>)\n",
      "tensor([0.0061], grad_fn=<SigmoidBackward>)\n"
     ]
    }
   ],
   "source": [
    "for i in range(len(Y)):\n",
    "    print(model4(X[i,]))"
   ]
  },
  {
   "cell_type": "code",
   "execution_count": 147,
   "metadata": {},
   "outputs": [
    {
     "data": {
      "text/plain": [
       "tensor([[1.],\n",
       "        [1.],\n",
       "        [1.],\n",
       "        [1.],\n",
       "        [0.],\n",
       "        [0.],\n",
       "        [0.],\n",
       "        [0.]])"
      ]
     },
     "execution_count": 147,
     "metadata": {},
     "output_type": "execute_result"
    }
   ],
   "source": [
    "Y"
   ]
  },
  {
   "cell_type": "code",
   "execution_count": 148,
   "metadata": {},
   "outputs": [],
   "source": [
    "model_params = list(model4.parameters())"
   ]
  },
  {
   "cell_type": "code",
   "execution_count": 149,
   "metadata": {},
   "outputs": [
    {
     "data": {
      "text/plain": [
       "[Parameter containing:\n",
       " tensor([[ 3.4203, -0.1661, -0.0407],\n",
       "         [-0.8649, -2.1062, -0.8363],\n",
       "         [-2.8322, -0.2734,  0.0121],\n",
       "         [-1.6227, -0.0411,  0.3832],\n",
       "         [-4.8063,  0.3051,  0.0914]], requires_grad=True),\n",
       " Parameter containing:\n",
       " tensor([-1.0902,  0.2653,  0.9703, -0.2629,  1.7901], requires_grad=True),\n",
       " Parameter containing:\n",
       " tensor([[ 4.8701, -0.1386, -2.7994, -1.5249, -6.1054]], requires_grad=True),\n",
       " Parameter containing:\n",
       " tensor([1.6766], requires_grad=True)]"
      ]
     },
     "execution_count": 149,
     "metadata": {},
     "output_type": "execute_result"
    }
   ],
   "source": [
    "model_params"
   ]
  },
  {
   "cell_type": "code",
   "execution_count": 150,
   "metadata": {},
   "outputs": [],
   "source": [
    "# W1; (10x3) b1; (10,1); W2; (1,10); b2; (1,1)"
   ]
  },
  {
   "cell_type": "code",
   "execution_count": 151,
   "metadata": {},
   "outputs": [
    {
     "data": {
      "text/plain": [
       "(torch.Size([5, 3]), torch.Size([5]), torch.Size([1, 5]), torch.Size([1]))"
      ]
     },
     "execution_count": 151,
     "metadata": {},
     "output_type": "execute_result"
    }
   ],
   "source": [
    "model_params[0].shape, model_params[1].shape, model_params[2].shape, model_params[3].shape"
   ]
  },
  {
   "cell_type": "code",
   "execution_count": 152,
   "metadata": {},
   "outputs": [],
   "source": [
    "W1 = model_params[0].data.numpy()\n",
    "b1 = model_params[1].data.numpy()\n",
    "W2 = model_params[2].data.numpy()\n",
    "b2 = model_params[3].data.numpy()"
   ]
  },
  {
   "cell_type": "code",
   "execution_count": 153,
   "metadata": {},
   "outputs": [
    {
     "data": {
      "text/plain": [
       "tensor([0.9936])"
      ]
     },
     "execution_count": 153,
     "metadata": {},
     "output_type": "execute_result"
    }
   ],
   "source": [
    "F.sigmoid(F.sigmoid(X[0,] @ W1.T + b1) @ W2.T + b2)"
   ]
  },
  {
   "cell_type": "markdown",
   "metadata": {},
   "source": [
    "# Problem 5"
   ]
  },
  {
   "cell_type": "code",
   "execution_count": 154,
   "metadata": {},
   "outputs": [],
   "source": [
    "# x1, x2, x3...ans\n",
    "# 1, 1, 1; 0\n",
    "# 1, 1, 0; 0\n",
    "# 1, 0, 1; 0\n",
    "# 1, 0, 0; 1\n",
    "# 0, 1, 1; 0\n",
    "# 0, 1, 0; 1\n",
    "# 0, 0, 1; 0\n",
    "# 0, 0, 0; 0"
   ]
  },
  {
   "cell_type": "code",
   "execution_count": 155,
   "metadata": {},
   "outputs": [],
   "source": [
    "X = torch.Tensor([[1, 1, 1],\n",
    "                  [1, 1, 0],\n",
    "                  [1, 0, 1],\n",
    "                  [1, 0, 0],\n",
    "                  [0, 1, 1],\n",
    "                  [0, 1, 0],\n",
    "                  [0, 0, 1],\n",
    "                  [0, 0, 0]])\n",
    "\n",
    "Y = torch.Tensor([0,0,0,1,0,1,0,0]).view(-1,1)"
   ]
  },
  {
   "cell_type": "code",
   "execution_count": 166,
   "metadata": {},
   "outputs": [
    {
     "name": "stdout",
     "output_type": "stream",
     "text": [
      "Epoch: 0, Loss: 0.5304495096206665, \n",
      "Epoch: 5000, Loss: 1.2979332097984297e-07, \n",
      "Epoch: 10000, Loss: 0.00021424157603178173, \n"
     ]
    }
   ],
   "source": [
    "class Problem5(nn.Module):\n",
    "    def __init__(self, input_dim = 3, output_dim=1, hidden_dim=5):\n",
    "        super(Problem5, self).__init__()\n",
    "        self.lin1 = nn.Linear(input_dim, hidden_dim)\n",
    "        self.lin2 = nn.Linear(hidden_dim, output_dim)\n",
    "    \n",
    "    def forward(self, x):\n",
    "        x = self.lin1(x)\n",
    "        x = F.sigmoid(x)\n",
    "        x = self.lin2(x)\n",
    "        x = F.sigmoid(x)\n",
    "        return x\n",
    "\n",
    "model5 = Problem5()\n",
    "\n",
    "def weights_init(model):\n",
    "    for m in model.modules():\n",
    "        if isinstance(m, nn.Linear):\n",
    "            # initialize the weight tensor, here we use a normal distribution\n",
    "            m.weight.data.normal_(0, 1)\n",
    "\n",
    "weights_init(model5)\n",
    "\n",
    "loss_func = nn.MSELoss()\n",
    "\n",
    "optimizer = optim.SGD(model5.parameters(), lr=0.02, momentum=0.9)\n",
    "\n",
    "epochs = int(1e4 + 1.)\n",
    "steps = X.size(0)\n",
    "for i in range(epochs):\n",
    "    for j in range(steps):\n",
    "        data_point = np.random.randint(X.size(0))\n",
    "        x_var = Variable(X[data_point], requires_grad=False)\n",
    "        y_var = Variable(Y[data_point], requires_grad=False)\n",
    "        \n",
    "        optimizer.zero_grad()\n",
    "        y_hat = model5(x_var)\n",
    "        loss = loss_func.forward(y_hat, y_var)\n",
    "        loss.backward()\n",
    "        optimizer.step()\n",
    "        \n",
    "    if (i % 5e3 == 0):\n",
    "        print(\"Epoch: {0}, Loss: {1}, \".format(i, loss.data.numpy()))"
   ]
  },
  {
   "cell_type": "code",
   "execution_count": 167,
   "metadata": {},
   "outputs": [
    {
     "name": "stdout",
     "output_type": "stream",
     "text": [
      "tensor([0.0027], grad_fn=<SigmoidBackward>)\n",
      "tensor([0.0174], grad_fn=<SigmoidBackward>)\n",
      "tensor([0.0003], grad_fn=<SigmoidBackward>)\n",
      "tensor([0.9854], grad_fn=<SigmoidBackward>)\n",
      "tensor([0.0006], grad_fn=<SigmoidBackward>)\n",
      "tensor([0.9836], grad_fn=<SigmoidBackward>)\n",
      "tensor([0.0040], grad_fn=<SigmoidBackward>)\n",
      "tensor([0.0144], grad_fn=<SigmoidBackward>)\n"
     ]
    }
   ],
   "source": [
    "for i in range(len(Y)):\n",
    "    print(model5(X[i,]))"
   ]
  },
  {
   "cell_type": "code",
   "execution_count": 168,
   "metadata": {},
   "outputs": [
    {
     "data": {
      "text/plain": [
       "tensor([[0.],\n",
       "        [0.],\n",
       "        [0.],\n",
       "        [1.],\n",
       "        [0.],\n",
       "        [1.],\n",
       "        [0.],\n",
       "        [0.]])"
      ]
     },
     "execution_count": 168,
     "metadata": {},
     "output_type": "execute_result"
    }
   ],
   "source": [
    "Y"
   ]
  },
  {
   "cell_type": "code",
   "execution_count": 169,
   "metadata": {},
   "outputs": [],
   "source": [
    "model_params = list(model5.parameters())"
   ]
  },
  {
   "cell_type": "code",
   "execution_count": 170,
   "metadata": {},
   "outputs": [
    {
     "data": {
      "text/plain": [
       "[Parameter containing:\n",
       " tensor([[-2.0187, -1.7206, -1.4887],\n",
       "         [ 4.2645,  3.9943,  2.4229],\n",
       "         [ 1.0179, -2.0601, -0.1133],\n",
       "         [-5.3538, -5.5443,  4.5531],\n",
       "         [ 3.4594,  3.7288,  0.5516]], requires_grad=True),\n",
       " Parameter containing:\n",
       " tensor([ 2.8620, -6.2845, -0.8694,  2.0805, -0.9889], requires_grad=True),\n",
       " Parameter containing:\n",
       " tensor([[ 3.5864, -8.9740,  1.3763, -9.0327,  3.5677]], requires_grad=True),\n",
       " Parameter containing:\n",
       " tensor([-0.9460], requires_grad=True)]"
      ]
     },
     "execution_count": 170,
     "metadata": {},
     "output_type": "execute_result"
    }
   ],
   "source": [
    "model_params"
   ]
  },
  {
   "cell_type": "code",
   "execution_count": 171,
   "metadata": {},
   "outputs": [
    {
     "data": {
      "text/plain": [
       "(torch.Size([5, 3]), torch.Size([5]), torch.Size([1, 5]), torch.Size([1]))"
      ]
     },
     "execution_count": 171,
     "metadata": {},
     "output_type": "execute_result"
    }
   ],
   "source": [
    "model_params[0].shape, model_params[1].shape, model_params[2].shape, model_params[3].shape"
   ]
  },
  {
   "cell_type": "code",
   "execution_count": 172,
   "metadata": {},
   "outputs": [],
   "source": [
    "W1 = model_params[0].data.numpy()\n",
    "b1 = model_params[1].data.numpy()\n",
    "W2 = model_params[2].data.numpy()\n",
    "b2 = model_params[3].data.numpy()"
   ]
  },
  {
   "cell_type": "code",
   "execution_count": 173,
   "metadata": {},
   "outputs": [
    {
     "data": {
      "text/plain": [
       "tensor([0.0027])"
      ]
     },
     "execution_count": 173,
     "metadata": {},
     "output_type": "execute_result"
    }
   ],
   "source": [
    "F.sigmoid(F.sigmoid(X[0,] @ W1.T + b1) @ W2.T + b2)"
   ]
  },
  {
   "cell_type": "code",
   "execution_count": 165,
   "metadata": {},
   "outputs": [],
   "source": [
    "# https://github.com/szagoruyko/functional-zoo/blob/master/visualize.py"
   ]
  },
  {
   "cell_type": "code",
   "execution_count": 96,
   "metadata": {},
   "outputs": [],
   "source": [
    "# https://www.programmersought.com/article/479977857/\n",
    "model_params = list(model5.parameters())\n",
    "\n",
    "vis_graph = make_dot(model5(X[1,]), params=dict(model5.named_parameters()))"
   ]
  },
  {
   "cell_type": "code",
   "execution_count": 99,
   "metadata": {},
   "outputs": [
    {
     "data": {
      "text/plain": [
       "'Digraph.gv.pdf'"
      ]
     },
     "execution_count": 99,
     "metadata": {},
     "output_type": "execute_result"
    }
   ],
   "source": [
    "vis_graph.view()"
   ]
  },
  {
   "cell_type": "markdown",
   "metadata": {},
   "source": [
    "# Problem 6"
   ]
  },
  {
   "cell_type": "code",
   "execution_count": 381,
   "metadata": {},
   "outputs": [],
   "source": [
    "import pandas as pd\n",
    "\n",
    "pd.set_option('display.max_rows', 500)"
   ]
  },
  {
   "cell_type": "code",
   "execution_count": 398,
   "metadata": {},
   "outputs": [],
   "source": [
    "np.random.seed(6)\n",
    "\n",
    "sample11 = np.random.normal(loc=1, scale=np.sqrt(0.2), size=(100,1))\n",
    "sample12 = np.random.normal(loc=-1, scale=np.sqrt(0.2), size=(100,1))\n",
    "\n",
    "sample21 = np.random.normal(loc=0, scale=np.sqrt(0.2), size=(100,1))\n",
    "sample22 = np.random.normal(loc=0, scale=np.sqrt(0.2), size=(100,1))"
   ]
  },
  {
   "cell_type": "code",
   "execution_count": 399,
   "metadata": {},
   "outputs": [],
   "source": [
    "sample1 = pd.DataFrame({\n",
    "    'x11':[i[0] for i in sample11],\n",
    "    'x12':[i[0] for i in sample12]\n",
    "    })\n",
    "\n",
    "sample2 = pd.DataFrame({\n",
    "    'x21':[i[0] for i in sample21],\n",
    "    'x22':[i[0] for i in sample22]\n",
    "    })"
   ]
  },
  {
   "cell_type": "code",
   "execution_count": 400,
   "metadata": {},
   "outputs": [
    {
     "data": {
      "text/plain": [
       "4"
      ]
     },
     "execution_count": 400,
     "metadata": {},
     "output_type": "execute_result"
    }
   ],
   "source": [
    "sum(sample1.x11 - sample1.x12 < 1)"
   ]
  },
  {
   "cell_type": "code",
   "execution_count": 401,
   "metadata": {},
   "outputs": [
    {
     "data": {
      "text/plain": [
       "6"
      ]
     },
     "execution_count": 401,
     "metadata": {},
     "output_type": "execute_result"
    }
   ],
   "source": [
    "sum(sample2.x21 - sample2.x22 > 1)"
   ]
  },
  {
   "cell_type": "code",
   "execution_count": 402,
   "metadata": {},
   "outputs": [
    {
     "data": {
      "text/plain": [
       "0"
      ]
     },
     "execution_count": 402,
     "metadata": {},
     "output_type": "execute_result"
    }
   ],
   "source": [
    "bad_indices1 = sample1[sample1.x11 - sample1.x12 < 1].index\n",
    "sample1.iloc[bad_indices1,1] = sample1.iloc[bad_indices1,1] - 0.3\n",
    "sum(sample1.x11 - sample1.x12 < 1)"
   ]
  },
  {
   "cell_type": "code",
   "execution_count": 416,
   "metadata": {},
   "outputs": [
    {
     "data": {
      "text/plain": [
       "0"
      ]
     },
     "execution_count": 416,
     "metadata": {},
     "output_type": "execute_result"
    }
   ],
   "source": [
    "bad_indices2 = sample2[sample2.x21 - sample2.x22 > 1].index\n",
    "sample2.iloc[bad_indices2, 1] = sample2.iloc[bad_indices2, 1] + 0.5\n",
    "sum(sample2.x21 - sample2.x22 > 1)"
   ]
  },
  {
   "cell_type": "code",
   "execution_count": 417,
   "metadata": {},
   "outputs": [],
   "source": [
    "class_list = [0] * 100\n",
    "class_list.extend([1] * 100)"
   ]
  },
  {
   "cell_type": "code",
   "execution_count": 418,
   "metadata": {},
   "outputs": [],
   "source": [
    "sample1.columns = ['x1', 'x2']\n",
    "sample2.columns = ['x1', 'x2']\n",
    "sample_data = pd.concat([sample1, sample2], axis=0, ignore_index=True)"
   ]
  },
  {
   "cell_type": "code",
   "execution_count": 419,
   "metadata": {},
   "outputs": [],
   "source": [
    "sample_data['Class'] = class_list"
   ]
  },
  {
   "cell_type": "code",
   "execution_count": 420,
   "metadata": {},
   "outputs": [
    {
     "data": {
      "text/html": [
       "<div>\n",
       "<style scoped>\n",
       "    .dataframe tbody tr th:only-of-type {\n",
       "        vertical-align: middle;\n",
       "    }\n",
       "\n",
       "    .dataframe tbody tr th {\n",
       "        vertical-align: top;\n",
       "    }\n",
       "\n",
       "    .dataframe thead th {\n",
       "        text-align: right;\n",
       "    }\n",
       "</style>\n",
       "<table border=\"1\" class=\"dataframe\">\n",
       "  <thead>\n",
       "    <tr style=\"text-align: right;\">\n",
       "      <th></th>\n",
       "      <th>x1</th>\n",
       "      <th>x2</th>\n",
       "      <th>Class</th>\n",
       "    </tr>\n",
       "  </thead>\n",
       "  <tbody>\n",
       "    <tr>\n",
       "      <th>0</th>\n",
       "      <td>0.860566</td>\n",
       "      <td>-1.432964</td>\n",
       "      <td>0</td>\n",
       "    </tr>\n",
       "    <tr>\n",
       "      <th>1</th>\n",
       "      <td>1.326020</td>\n",
       "      <td>-0.925285</td>\n",
       "      <td>0</td>\n",
       "    </tr>\n",
       "    <tr>\n",
       "      <th>2</th>\n",
       "      <td>1.097412</td>\n",
       "      <td>-0.947854</td>\n",
       "      <td>0</td>\n",
       "    </tr>\n",
       "    <tr>\n",
       "      <th>3</th>\n",
       "      <td>0.597914</td>\n",
       "      <td>-1.305115</td>\n",
       "      <td>0</td>\n",
       "    </tr>\n",
       "    <tr>\n",
       "      <th>4</th>\n",
       "      <td>-0.112122</td>\n",
       "      <td>-1.855976</td>\n",
       "      <td>0</td>\n",
       "    </tr>\n",
       "  </tbody>\n",
       "</table>\n",
       "</div>"
      ],
      "text/plain": [
       "         x1        x2  Class\n",
       "0  0.860566 -1.432964      0\n",
       "1  1.326020 -0.925285      0\n",
       "2  1.097412 -0.947854      0\n",
       "3  0.597914 -1.305115      0\n",
       "4 -0.112122 -1.855976      0"
      ]
     },
     "execution_count": 420,
     "metadata": {},
     "output_type": "execute_result"
    }
   ],
   "source": [
    "sample_data.head()"
   ]
  },
  {
   "cell_type": "code",
   "execution_count": 421,
   "metadata": {},
   "outputs": [],
   "source": [
    "X = torch.Tensor(np.array(sample_data.loc[:,['x1','x2']]))\n",
    "Y = torch.Tensor(np.array(sample_data.Class)).view(-1,1)"
   ]
  },
  {
   "cell_type": "code",
   "execution_count": 422,
   "metadata": {},
   "outputs": [
    {
     "name": "stderr",
     "output_type": "stream",
     "text": [
      "/opt/anaconda3/lib/python3.7/site-packages/torch/nn/functional.py:1625: UserWarning: nn.functional.sigmoid is deprecated. Use torch.sigmoid instead.\n",
      "  warnings.warn(\"nn.functional.sigmoid is deprecated. Use torch.sigmoid instead.\")\n"
     ]
    },
    {
     "name": "stdout",
     "output_type": "stream",
     "text": [
      "Epoch: 0, Loss: 0.07603230327367783, \n",
      "Epoch: 1000, Loss: 0.004241567105054855, \n",
      "Epoch: 2000, Loss: 0.0, \n",
      "Epoch: 3000, Loss: 0.00011766715761041269, \n",
      "Epoch: 4000, Loss: 0.0, \n",
      "Epoch: 5000, Loss: 0.0, \n",
      "Epoch: 6000, Loss: 0.003605674486607313, \n",
      "Epoch: 7000, Loss: 3.672487525674048e-14, \n",
      "Epoch: 8000, Loss: 0.0, \n",
      "Epoch: 9000, Loss: 0.0, \n",
      "Epoch: 10000, Loss: 0.0, \n"
     ]
    }
   ],
   "source": [
    "class Problem6(nn.Module):\n",
    "    def __init__(self, input_dim = 2):\n",
    "        super(Problem6, self).__init__()\n",
    "        self.lin1 = nn.Linear(input_dim, 1)\n",
    "    \n",
    "    def forward(self, x):\n",
    "        x = self.lin1(x)\n",
    "        x = F.sigmoid(x)\n",
    "        return x\n",
    "\n",
    "model6 = Problem6()\n",
    "\n",
    "def weights_init(model):\n",
    "    for m in model.modules():\n",
    "        if isinstance(m, nn.Linear):\n",
    "            # initialize the weight tensor, here we use a normal distribution\n",
    "            m.weight.data.normal_(0, 1)\n",
    "\n",
    "weights_init(model6)\n",
    "\n",
    "loss_func = nn.MSELoss()\n",
    "\n",
    "optimizer = optim.SGD(model6.parameters(), lr=0.02, momentum=0.9)\n",
    "\n",
    "epochs = int(1e4 + 1.)\n",
    "steps = X.size(0)\n",
    "for i in range(epochs):\n",
    "    for j in range(steps):\n",
    "        data_point = np.random.randint(X.size(0))\n",
    "        x_var = Variable(X[data_point], requires_grad=False)\n",
    "        y_var = Variable(Y[data_point], requires_grad=False)\n",
    "        \n",
    "        optimizer.zero_grad()\n",
    "        y_hat = model6(x_var)\n",
    "        loss = loss_func.forward(y_hat, y_var)\n",
    "        loss.backward()\n",
    "        optimizer.step()\n",
    "        \n",
    "    if (i % 1e3 == 0):\n",
    "        print(\"Epoch: {0}, Loss: {1}, \".format(i, loss.data.numpy()))"
   ]
  },
  {
   "cell_type": "code",
   "execution_count": 423,
   "metadata": {
    "collapsed": true
   },
   "outputs": [
    {
     "name": "stdout",
     "output_type": "stream",
     "text": [
      "tensor([1.0109e-15], grad_fn=<SigmoidBackward>)\n",
      "tensor([5.6815e-15], grad_fn=<SigmoidBackward>)\n",
      "tensor([1.4273e-12], grad_fn=<SigmoidBackward>)\n",
      "tensor([4.3590e-11], grad_fn=<SigmoidBackward>)\n",
      "tensor([1.6789e-09], grad_fn=<SigmoidBackward>)\n",
      "tensor([1.3011e-17], grad_fn=<SigmoidBackward>)\n",
      "tensor([2.4341e-17], grad_fn=<SigmoidBackward>)\n",
      "tensor([2.6700e-06], grad_fn=<SigmoidBackward>)\n",
      "tensor([7.4747e-26], grad_fn=<SigmoidBackward>)\n",
      "tensor([1.1256e-15], grad_fn=<SigmoidBackward>)\n",
      "tensor([1.7423e-28], grad_fn=<SigmoidBackward>)\n",
      "tensor([8.8840e-08], grad_fn=<SigmoidBackward>)\n",
      "tensor([1.7768e-09], grad_fn=<SigmoidBackward>)\n",
      "tensor([1.8489e-27], grad_fn=<SigmoidBackward>)\n",
      "tensor([3.8753e-09], grad_fn=<SigmoidBackward>)\n",
      "tensor([3.4430e-15], grad_fn=<SigmoidBackward>)\n",
      "tensor([0.0023], grad_fn=<SigmoidBackward>)\n",
      "tensor([5.7481e-13], grad_fn=<SigmoidBackward>)\n",
      "tensor([1.0305e-15], grad_fn=<SigmoidBackward>)\n",
      "tensor([2.9857e-15], grad_fn=<SigmoidBackward>)\n",
      "tensor([2.3286e-12], grad_fn=<SigmoidBackward>)\n",
      "tensor([2.8443e-21], grad_fn=<SigmoidBackward>)\n",
      "tensor([0.0001], grad_fn=<SigmoidBackward>)\n",
      "tensor([7.6908e-11], grad_fn=<SigmoidBackward>)\n",
      "tensor([2.0963e-19], grad_fn=<SigmoidBackward>)\n",
      "tensor([5.9473e-08], grad_fn=<SigmoidBackward>)\n",
      "tensor([1.0081e-26], grad_fn=<SigmoidBackward>)\n",
      "tensor([1.1075e-18], grad_fn=<SigmoidBackward>)\n",
      "tensor([9.6185e-15], grad_fn=<SigmoidBackward>)\n",
      "tensor([3.1202e-17], grad_fn=<SigmoidBackward>)\n",
      "tensor([1.9850e-11], grad_fn=<SigmoidBackward>)\n",
      "tensor([4.3567e-05], grad_fn=<SigmoidBackward>)\n",
      "tensor([4.3744e-14], grad_fn=<SigmoidBackward>)\n",
      "tensor([1.0775e-18], grad_fn=<SigmoidBackward>)\n",
      "tensor([3.5871e-12], grad_fn=<SigmoidBackward>)\n",
      "tensor([1.7718e-10], grad_fn=<SigmoidBackward>)\n",
      "tensor([0.0117], grad_fn=<SigmoidBackward>)\n",
      "tensor([1.7137e-08], grad_fn=<SigmoidBackward>)\n",
      "tensor([1.0829e-07], grad_fn=<SigmoidBackward>)\n",
      "tensor([1.4458e-22], grad_fn=<SigmoidBackward>)\n",
      "tensor([9.9265e-16], grad_fn=<SigmoidBackward>)\n",
      "tensor([6.2956e-12], grad_fn=<SigmoidBackward>)\n",
      "tensor([3.9424e-28], grad_fn=<SigmoidBackward>)\n",
      "tensor([3.7212e-14], grad_fn=<SigmoidBackward>)\n",
      "tensor([5.7945e-18], grad_fn=<SigmoidBackward>)\n",
      "tensor([0.0011], grad_fn=<SigmoidBackward>)\n",
      "tensor([8.0290e-24], grad_fn=<SigmoidBackward>)\n",
      "tensor([9.9179e-09], grad_fn=<SigmoidBackward>)\n",
      "tensor([1.7120e-05], grad_fn=<SigmoidBackward>)\n",
      "tensor([5.2565e-11], grad_fn=<SigmoidBackward>)\n",
      "tensor([2.2185e-19], grad_fn=<SigmoidBackward>)\n",
      "tensor([2.6020e-18], grad_fn=<SigmoidBackward>)\n",
      "tensor([0.0125], grad_fn=<SigmoidBackward>)\n",
      "tensor([3.8606e-08], grad_fn=<SigmoidBackward>)\n",
      "tensor([0.0558], grad_fn=<SigmoidBackward>)\n",
      "tensor([3.3753e-22], grad_fn=<SigmoidBackward>)\n",
      "tensor([2.8710e-17], grad_fn=<SigmoidBackward>)\n",
      "tensor([0.0041], grad_fn=<SigmoidBackward>)\n",
      "tensor([9.9204e-12], grad_fn=<SigmoidBackward>)\n",
      "tensor([2.2106e-21], grad_fn=<SigmoidBackward>)\n",
      "tensor([5.0047e-10], grad_fn=<SigmoidBackward>)\n",
      "tensor([8.5632e-11], grad_fn=<SigmoidBackward>)\n",
      "tensor([1.0764e-15], grad_fn=<SigmoidBackward>)\n",
      "tensor([4.0847e-15], grad_fn=<SigmoidBackward>)\n",
      "tensor([7.9154e-15], grad_fn=<SigmoidBackward>)\n",
      "tensor([0.0080], grad_fn=<SigmoidBackward>)\n",
      "tensor([6.9070e-13], grad_fn=<SigmoidBackward>)\n",
      "tensor([4.3128e-09], grad_fn=<SigmoidBackward>)\n",
      "tensor([0.2364], grad_fn=<SigmoidBackward>)\n",
      "tensor([4.4114e-16], grad_fn=<SigmoidBackward>)\n",
      "tensor([8.1754e-19], grad_fn=<SigmoidBackward>)\n",
      "tensor([1.8073e-07], grad_fn=<SigmoidBackward>)\n",
      "tensor([1.6860e-17], grad_fn=<SigmoidBackward>)\n",
      "tensor([2.9018e-23], grad_fn=<SigmoidBackward>)\n",
      "tensor([1.1477e-15], grad_fn=<SigmoidBackward>)\n",
      "tensor([6.1229e-12], grad_fn=<SigmoidBackward>)\n",
      "tensor([7.6006e-13], grad_fn=<SigmoidBackward>)\n",
      "tensor([1.3426e-12], grad_fn=<SigmoidBackward>)\n",
      "tensor([1.5414e-08], grad_fn=<SigmoidBackward>)\n",
      "tensor([4.5754e-13], grad_fn=<SigmoidBackward>)\n",
      "tensor([3.2794e-09], grad_fn=<SigmoidBackward>)\n",
      "tensor([1.5026e-12], grad_fn=<SigmoidBackward>)\n",
      "tensor([0.0070], grad_fn=<SigmoidBackward>)\n",
      "tensor([1.5335e-21], grad_fn=<SigmoidBackward>)\n",
      "tensor([6.5068e-16], grad_fn=<SigmoidBackward>)\n",
      "tensor([9.9580e-12], grad_fn=<SigmoidBackward>)\n",
      "tensor([2.0683e-08], grad_fn=<SigmoidBackward>)\n",
      "tensor([3.5836e-14], grad_fn=<SigmoidBackward>)\n",
      "tensor([8.3335e-22], grad_fn=<SigmoidBackward>)\n",
      "tensor([0.0297], grad_fn=<SigmoidBackward>)\n",
      "tensor([2.1157e-14], grad_fn=<SigmoidBackward>)\n",
      "tensor([0.1315], grad_fn=<SigmoidBackward>)\n",
      "tensor([9.5296e-07], grad_fn=<SigmoidBackward>)\n",
      "tensor([1.3800e-07], grad_fn=<SigmoidBackward>)\n",
      "tensor([1.6945e-22], grad_fn=<SigmoidBackward>)\n",
      "tensor([3.7673e-18], grad_fn=<SigmoidBackward>)\n",
      "tensor([7.0006e-20], grad_fn=<SigmoidBackward>)\n",
      "tensor([1.5032e-35], grad_fn=<SigmoidBackward>)\n",
      "tensor([3.8781e-06], grad_fn=<SigmoidBackward>)\n",
      "tensor([3.5509e-06], grad_fn=<SigmoidBackward>)\n",
      "tensor([1.], grad_fn=<SigmoidBackward>)\n",
      "tensor([1.], grad_fn=<SigmoidBackward>)\n",
      "tensor([1.], grad_fn=<SigmoidBackward>)\n",
      "tensor([1.], grad_fn=<SigmoidBackward>)\n",
      "tensor([0.7632], grad_fn=<SigmoidBackward>)\n",
      "tensor([0.9760], grad_fn=<SigmoidBackward>)\n",
      "tensor([1.], grad_fn=<SigmoidBackward>)\n",
      "tensor([0.9991], grad_fn=<SigmoidBackward>)\n",
      "tensor([1.], grad_fn=<SigmoidBackward>)\n",
      "tensor([1.], grad_fn=<SigmoidBackward>)\n",
      "tensor([1.], grad_fn=<SigmoidBackward>)\n",
      "tensor([1.], grad_fn=<SigmoidBackward>)\n",
      "tensor([1.], grad_fn=<SigmoidBackward>)\n",
      "tensor([1.], grad_fn=<SigmoidBackward>)\n",
      "tensor([1.], grad_fn=<SigmoidBackward>)\n",
      "tensor([1.], grad_fn=<SigmoidBackward>)\n",
      "tensor([1.], grad_fn=<SigmoidBackward>)\n",
      "tensor([1.], grad_fn=<SigmoidBackward>)\n",
      "tensor([1.], grad_fn=<SigmoidBackward>)\n",
      "tensor([1.0000], grad_fn=<SigmoidBackward>)\n",
      "tensor([1.], grad_fn=<SigmoidBackward>)\n",
      "tensor([1.], grad_fn=<SigmoidBackward>)\n",
      "tensor([1.], grad_fn=<SigmoidBackward>)\n",
      "tensor([1.], grad_fn=<SigmoidBackward>)\n",
      "tensor([1.], grad_fn=<SigmoidBackward>)\n",
      "tensor([0.9999], grad_fn=<SigmoidBackward>)\n",
      "tensor([1.0000], grad_fn=<SigmoidBackward>)\n",
      "tensor([1.], grad_fn=<SigmoidBackward>)\n",
      "tensor([0.9997], grad_fn=<SigmoidBackward>)\n",
      "tensor([1.], grad_fn=<SigmoidBackward>)\n",
      "tensor([1.0000], grad_fn=<SigmoidBackward>)\n",
      "tensor([1.], grad_fn=<SigmoidBackward>)\n",
      "tensor([1.], grad_fn=<SigmoidBackward>)\n",
      "tensor([1.], grad_fn=<SigmoidBackward>)\n",
      "tensor([1.0000], grad_fn=<SigmoidBackward>)\n",
      "tensor([1.], grad_fn=<SigmoidBackward>)\n",
      "tensor([1.], grad_fn=<SigmoidBackward>)\n",
      "tensor([0.9997], grad_fn=<SigmoidBackward>)\n",
      "tensor([1.], grad_fn=<SigmoidBackward>)\n",
      "tensor([1.], grad_fn=<SigmoidBackward>)\n",
      "tensor([1.], grad_fn=<SigmoidBackward>)\n",
      "tensor([0.9999], grad_fn=<SigmoidBackward>)\n",
      "tensor([1.], grad_fn=<SigmoidBackward>)\n",
      "tensor([1.], grad_fn=<SigmoidBackward>)\n",
      "tensor([1.], grad_fn=<SigmoidBackward>)\n",
      "tensor([0.9999], grad_fn=<SigmoidBackward>)\n",
      "tensor([1.], grad_fn=<SigmoidBackward>)\n",
      "tensor([1.], grad_fn=<SigmoidBackward>)\n",
      "tensor([1.], grad_fn=<SigmoidBackward>)\n",
      "tensor([1.], grad_fn=<SigmoidBackward>)\n",
      "tensor([1.], grad_fn=<SigmoidBackward>)\n",
      "tensor([1.0000], grad_fn=<SigmoidBackward>)\n",
      "tensor([0.9996], grad_fn=<SigmoidBackward>)\n",
      "tensor([0.9998], grad_fn=<SigmoidBackward>)\n",
      "tensor([1.], grad_fn=<SigmoidBackward>)\n",
      "tensor([1.], grad_fn=<SigmoidBackward>)\n",
      "tensor([1.], grad_fn=<SigmoidBackward>)\n",
      "tensor([0.9985], grad_fn=<SigmoidBackward>)\n",
      "tensor([0.9971], grad_fn=<SigmoidBackward>)\n",
      "tensor([0.9998], grad_fn=<SigmoidBackward>)\n",
      "tensor([1.], grad_fn=<SigmoidBackward>)\n",
      "tensor([1.], grad_fn=<SigmoidBackward>)\n",
      "tensor([1.], grad_fn=<SigmoidBackward>)\n",
      "tensor([1.], grad_fn=<SigmoidBackward>)\n",
      "tensor([0.9999], grad_fn=<SigmoidBackward>)\n",
      "tensor([1.], grad_fn=<SigmoidBackward>)\n",
      "tensor([1.], grad_fn=<SigmoidBackward>)\n",
      "tensor([1.], grad_fn=<SigmoidBackward>)\n",
      "tensor([1.], grad_fn=<SigmoidBackward>)\n",
      "tensor([1.], grad_fn=<SigmoidBackward>)\n",
      "tensor([1.], grad_fn=<SigmoidBackward>)\n",
      "tensor([1.], grad_fn=<SigmoidBackward>)\n",
      "tensor([1.0000], grad_fn=<SigmoidBackward>)\n",
      "tensor([1.], grad_fn=<SigmoidBackward>)\n",
      "tensor([0.9819], grad_fn=<SigmoidBackward>)\n",
      "tensor([1.], grad_fn=<SigmoidBackward>)\n",
      "tensor([1.], grad_fn=<SigmoidBackward>)\n",
      "tensor([0.9999], grad_fn=<SigmoidBackward>)\n",
      "tensor([1.], grad_fn=<SigmoidBackward>)\n",
      "tensor([1.], grad_fn=<SigmoidBackward>)\n",
      "tensor([1.], grad_fn=<SigmoidBackward>)\n",
      "tensor([1.], grad_fn=<SigmoidBackward>)\n",
      "tensor([1.], grad_fn=<SigmoidBackward>)\n",
      "tensor([0.9986], grad_fn=<SigmoidBackward>)\n",
      "tensor([0.9989], grad_fn=<SigmoidBackward>)\n",
      "tensor([1.], grad_fn=<SigmoidBackward>)\n",
      "tensor([1.], grad_fn=<SigmoidBackward>)\n",
      "tensor([1.0000], grad_fn=<SigmoidBackward>)\n",
      "tensor([1.], grad_fn=<SigmoidBackward>)\n",
      "tensor([1.], grad_fn=<SigmoidBackward>)\n",
      "tensor([0.9074], grad_fn=<SigmoidBackward>)\n",
      "tensor([0.9999], grad_fn=<SigmoidBackward>)\n",
      "tensor([0.9643], grad_fn=<SigmoidBackward>)\n",
      "tensor([1.], grad_fn=<SigmoidBackward>)\n",
      "tensor([1.], grad_fn=<SigmoidBackward>)\n",
      "tensor([1.], grad_fn=<SigmoidBackward>)\n",
      "tensor([1.], grad_fn=<SigmoidBackward>)\n",
      "tensor([1.], grad_fn=<SigmoidBackward>)\n",
      "tensor([1.0000], grad_fn=<SigmoidBackward>)\n",
      "tensor([1.], grad_fn=<SigmoidBackward>)\n"
     ]
    }
   ],
   "source": [
    "for i in range(len(Y)):\n",
    "    print(model6(X[i,]))"
   ]
  },
  {
   "cell_type": "code",
   "execution_count": 424,
   "metadata": {
    "collapsed": true
   },
   "outputs": [
    {
     "data": {
      "text/plain": [
       "array([[False],\n",
       "       [False],\n",
       "       [False],\n",
       "       [False],\n",
       "       [False],\n",
       "       [False],\n",
       "       [False],\n",
       "       [False],\n",
       "       [False],\n",
       "       [False],\n",
       "       [False],\n",
       "       [False],\n",
       "       [False],\n",
       "       [False],\n",
       "       [False],\n",
       "       [False],\n",
       "       [False],\n",
       "       [False],\n",
       "       [False],\n",
       "       [False],\n",
       "       [False],\n",
       "       [False],\n",
       "       [False],\n",
       "       [False],\n",
       "       [False],\n",
       "       [False],\n",
       "       [False],\n",
       "       [False],\n",
       "       [False],\n",
       "       [False],\n",
       "       [False],\n",
       "       [False],\n",
       "       [False],\n",
       "       [False],\n",
       "       [False],\n",
       "       [False],\n",
       "       [False],\n",
       "       [False],\n",
       "       [False],\n",
       "       [False],\n",
       "       [False],\n",
       "       [False],\n",
       "       [False],\n",
       "       [False],\n",
       "       [False],\n",
       "       [False],\n",
       "       [False],\n",
       "       [False],\n",
       "       [False],\n",
       "       [False],\n",
       "       [False],\n",
       "       [False],\n",
       "       [False],\n",
       "       [False],\n",
       "       [False],\n",
       "       [False],\n",
       "       [False],\n",
       "       [False],\n",
       "       [False],\n",
       "       [False],\n",
       "       [False],\n",
       "       [False],\n",
       "       [False],\n",
       "       [False],\n",
       "       [False],\n",
       "       [False],\n",
       "       [False],\n",
       "       [False],\n",
       "       [False],\n",
       "       [False],\n",
       "       [False],\n",
       "       [False],\n",
       "       [False],\n",
       "       [False],\n",
       "       [False],\n",
       "       [False],\n",
       "       [False],\n",
       "       [False],\n",
       "       [False],\n",
       "       [False],\n",
       "       [False],\n",
       "       [False],\n",
       "       [False],\n",
       "       [False],\n",
       "       [False],\n",
       "       [False],\n",
       "       [False],\n",
       "       [False],\n",
       "       [False],\n",
       "       [False],\n",
       "       [False],\n",
       "       [False],\n",
       "       [False],\n",
       "       [False],\n",
       "       [False],\n",
       "       [False],\n",
       "       [False],\n",
       "       [False],\n",
       "       [False],\n",
       "       [False],\n",
       "       [ True],\n",
       "       [ True],\n",
       "       [ True],\n",
       "       [ True],\n",
       "       [ True],\n",
       "       [ True],\n",
       "       [ True],\n",
       "       [ True],\n",
       "       [ True],\n",
       "       [ True],\n",
       "       [ True],\n",
       "       [ True],\n",
       "       [ True],\n",
       "       [ True],\n",
       "       [ True],\n",
       "       [ True],\n",
       "       [ True],\n",
       "       [ True],\n",
       "       [ True],\n",
       "       [ True],\n",
       "       [ True],\n",
       "       [ True],\n",
       "       [ True],\n",
       "       [ True],\n",
       "       [ True],\n",
       "       [ True],\n",
       "       [ True],\n",
       "       [ True],\n",
       "       [ True],\n",
       "       [ True],\n",
       "       [ True],\n",
       "       [ True],\n",
       "       [ True],\n",
       "       [ True],\n",
       "       [ True],\n",
       "       [ True],\n",
       "       [ True],\n",
       "       [ True],\n",
       "       [ True],\n",
       "       [ True],\n",
       "       [ True],\n",
       "       [ True],\n",
       "       [ True],\n",
       "       [ True],\n",
       "       [ True],\n",
       "       [ True],\n",
       "       [ True],\n",
       "       [ True],\n",
       "       [ True],\n",
       "       [ True],\n",
       "       [ True],\n",
       "       [ True],\n",
       "       [ True],\n",
       "       [ True],\n",
       "       [ True],\n",
       "       [ True],\n",
       "       [ True],\n",
       "       [ True],\n",
       "       [ True],\n",
       "       [ True],\n",
       "       [ True],\n",
       "       [ True],\n",
       "       [ True],\n",
       "       [ True],\n",
       "       [ True],\n",
       "       [ True],\n",
       "       [ True],\n",
       "       [ True],\n",
       "       [ True],\n",
       "       [ True],\n",
       "       [ True],\n",
       "       [ True],\n",
       "       [ True],\n",
       "       [ True],\n",
       "       [ True],\n",
       "       [ True],\n",
       "       [ True],\n",
       "       [ True],\n",
       "       [ True],\n",
       "       [ True],\n",
       "       [ True],\n",
       "       [ True],\n",
       "       [ True],\n",
       "       [ True],\n",
       "       [ True],\n",
       "       [ True],\n",
       "       [ True],\n",
       "       [ True],\n",
       "       [ True],\n",
       "       [ True],\n",
       "       [ True],\n",
       "       [ True],\n",
       "       [ True],\n",
       "       [ True],\n",
       "       [ True],\n",
       "       [ True],\n",
       "       [ True],\n",
       "       [ True],\n",
       "       [ True],\n",
       "       [ True]])"
      ]
     },
     "execution_count": 424,
     "metadata": {},
     "output_type": "execute_result"
    }
   ],
   "source": [
    "model6(X).data.numpy() > 0.5"
   ]
  },
  {
   "cell_type": "code",
   "execution_count": 318,
   "metadata": {
    "collapsed": true
   },
   "outputs": [
    {
     "data": {
      "text/plain": [
       "tensor([[0.],\n",
       "        [0.],\n",
       "        [0.],\n",
       "        [0.],\n",
       "        [0.],\n",
       "        [0.],\n",
       "        [0.],\n",
       "        [0.],\n",
       "        [0.],\n",
       "        [0.],\n",
       "        [0.],\n",
       "        [0.],\n",
       "        [0.],\n",
       "        [0.],\n",
       "        [0.],\n",
       "        [0.],\n",
       "        [0.],\n",
       "        [0.],\n",
       "        [0.],\n",
       "        [0.],\n",
       "        [0.],\n",
       "        [0.],\n",
       "        [0.],\n",
       "        [0.],\n",
       "        [0.],\n",
       "        [0.],\n",
       "        [0.],\n",
       "        [0.],\n",
       "        [0.],\n",
       "        [0.],\n",
       "        [0.],\n",
       "        [0.],\n",
       "        [0.],\n",
       "        [0.],\n",
       "        [0.],\n",
       "        [0.],\n",
       "        [0.],\n",
       "        [0.],\n",
       "        [0.],\n",
       "        [0.],\n",
       "        [0.],\n",
       "        [0.],\n",
       "        [0.],\n",
       "        [0.],\n",
       "        [0.],\n",
       "        [0.],\n",
       "        [0.],\n",
       "        [0.],\n",
       "        [0.],\n",
       "        [0.],\n",
       "        [0.],\n",
       "        [0.],\n",
       "        [0.],\n",
       "        [0.],\n",
       "        [0.],\n",
       "        [0.],\n",
       "        [0.],\n",
       "        [0.],\n",
       "        [0.],\n",
       "        [0.],\n",
       "        [0.],\n",
       "        [0.],\n",
       "        [0.],\n",
       "        [0.],\n",
       "        [0.],\n",
       "        [0.],\n",
       "        [0.],\n",
       "        [0.],\n",
       "        [0.],\n",
       "        [0.],\n",
       "        [0.],\n",
       "        [0.],\n",
       "        [0.],\n",
       "        [0.],\n",
       "        [0.],\n",
       "        [0.],\n",
       "        [0.],\n",
       "        [0.],\n",
       "        [0.],\n",
       "        [0.],\n",
       "        [0.],\n",
       "        [0.],\n",
       "        [0.],\n",
       "        [0.],\n",
       "        [0.],\n",
       "        [0.],\n",
       "        [0.],\n",
       "        [0.],\n",
       "        [0.],\n",
       "        [0.],\n",
       "        [0.],\n",
       "        [0.],\n",
       "        [0.],\n",
       "        [0.],\n",
       "        [0.],\n",
       "        [0.],\n",
       "        [0.],\n",
       "        [0.],\n",
       "        [0.],\n",
       "        [0.],\n",
       "        [1.],\n",
       "        [1.],\n",
       "        [1.],\n",
       "        [1.],\n",
       "        [1.],\n",
       "        [1.],\n",
       "        [1.],\n",
       "        [1.],\n",
       "        [1.],\n",
       "        [1.],\n",
       "        [1.],\n",
       "        [1.],\n",
       "        [1.],\n",
       "        [1.],\n",
       "        [1.],\n",
       "        [1.],\n",
       "        [1.],\n",
       "        [1.],\n",
       "        [1.],\n",
       "        [1.],\n",
       "        [1.],\n",
       "        [1.],\n",
       "        [1.],\n",
       "        [1.],\n",
       "        [1.],\n",
       "        [1.],\n",
       "        [1.],\n",
       "        [1.],\n",
       "        [1.],\n",
       "        [1.],\n",
       "        [1.],\n",
       "        [1.],\n",
       "        [1.],\n",
       "        [1.],\n",
       "        [1.],\n",
       "        [1.],\n",
       "        [1.],\n",
       "        [1.],\n",
       "        [1.],\n",
       "        [1.],\n",
       "        [1.],\n",
       "        [1.],\n",
       "        [1.],\n",
       "        [1.],\n",
       "        [1.],\n",
       "        [1.],\n",
       "        [1.],\n",
       "        [1.],\n",
       "        [1.],\n",
       "        [1.],\n",
       "        [1.],\n",
       "        [1.],\n",
       "        [1.],\n",
       "        [1.],\n",
       "        [1.],\n",
       "        [1.],\n",
       "        [1.],\n",
       "        [1.],\n",
       "        [1.],\n",
       "        [1.],\n",
       "        [1.],\n",
       "        [1.],\n",
       "        [1.],\n",
       "        [1.],\n",
       "        [1.],\n",
       "        [1.],\n",
       "        [1.],\n",
       "        [1.],\n",
       "        [1.],\n",
       "        [1.],\n",
       "        [1.],\n",
       "        [1.],\n",
       "        [1.],\n",
       "        [1.],\n",
       "        [1.],\n",
       "        [1.],\n",
       "        [1.],\n",
       "        [1.],\n",
       "        [1.],\n",
       "        [1.],\n",
       "        [1.],\n",
       "        [1.],\n",
       "        [1.],\n",
       "        [1.],\n",
       "        [1.],\n",
       "        [1.],\n",
       "        [1.],\n",
       "        [1.],\n",
       "        [1.],\n",
       "        [1.],\n",
       "        [1.],\n",
       "        [1.],\n",
       "        [1.],\n",
       "        [1.],\n",
       "        [1.],\n",
       "        [1.],\n",
       "        [1.],\n",
       "        [1.],\n",
       "        [1.],\n",
       "        [1.]])"
      ]
     },
     "execution_count": 318,
     "metadata": {},
     "output_type": "execute_result"
    }
   ],
   "source": [
    "Y"
   ]
  },
  {
   "cell_type": "code",
   "execution_count": 433,
   "metadata": {},
   "outputs": [],
   "source": [
    "model_params = list(model6.parameters())\n",
    "\n",
    "model_weights = model_params[0].data.numpy()\n",
    "model_bias = model_params[1].data.numpy()"
   ]
  },
  {
   "cell_type": "code",
   "execution_count": 467,
   "metadata": {},
   "outputs": [
    {
     "data": {
      "text/plain": [
       "(-26.94877, 28.107874, 28.940863)"
      ]
     },
     "execution_count": 467,
     "metadata": {},
     "output_type": "execute_result"
    }
   ],
   "source": [
    "w1, w2, b"
   ]
  },
  {
   "cell_type": "code",
   "execution_count": 446,
   "metadata": {},
   "outputs": [],
   "source": [
    "w1 = model_weights[0][0]\n",
    "w2 = model_weights[0][1]\n",
    "b = model_bias[0]\n",
    "\n",
    "# Reference: https://medium.com/@thomascountz/calculate-the-decision-boundary-of-a-single-perceptron-visualizing-linear-separability-c4d77099ef38\n",
    "slope = -(b / w2) / (b / w1)\n",
    "y_int = -b / w2\n",
    "x = np.linspace(-1,3)"
   ]
  },
  {
   "cell_type": "code",
   "execution_count": 458,
   "metadata": {},
   "outputs": [
    {
     "data": {
      "text/plain": [
       "<Figure size 800x800 with 0 Axes>"
      ]
     },
     "execution_count": 458,
     "metadata": {},
     "output_type": "execute_result"
    },
    {
     "data": {
      "text/plain": [
       "<Figure size 800x800 with 0 Axes>"
      ]
     },
     "metadata": {},
     "output_type": "display_data"
    }
   ],
   "source": [
    "from matplotlib.pyplot import figure\n",
    "figure(num=None, figsize=(10, 10), dpi=80, facecolor='w', edgecolor='k')"
   ]
  },
  {
   "cell_type": "code",
   "execution_count": 466,
   "metadata": {},
   "outputs": [
    {
     "data": {
      "image/png": "[encoded data removed]",
      "text/plain": [
       "<Figure size 720x720 with 1 Axes>"
      ]
     },
     "metadata": {
      "needs_background": "light"
     },
     "output_type": "display_data"
    }
   ],
   "source": [
    "plt.figure(figsize=(10,10))\n",
    "plt.suptitle('Problem 6', fontsize=20)\n",
    "plt.xlabel('x1', fontsize=18)\n",
    "plt.ylabel('x2', fontsize=16)\n",
    "plt.scatter(sample_data.iloc[0:100,0], sample_data.iloc[0:100,1])\n",
    "plt.scatter(sample_data.iloc[100:,0], sample_data.iloc[100:,1], c='red')\n",
    "plt.plot(x, slope * x + y_int, c='black')\n",
    "plt.savefig('p6.jpg')"
   ]
  },
  {
   "cell_type": "code",
   "execution_count": 330,
   "metadata": {
    "collapsed": true
   },
   "outputs": [
    {
     "ename": "IndexError",
     "evalue": "index 1 is out of bounds for axis 0 with size 1",
     "output_type": "error",
     "traceback": [
      "\u001b[0;31m---------------------------------------------------------------------------\u001b[0m",
      "\u001b[0;31mIndexError\u001b[0m                                Traceback (most recent call last)",
      "\u001b[0;32m<ipython-input-330-07f5a8878c3f>\u001b[0m in \u001b[0;36m<module>\u001b[0;34m\u001b[0m\n\u001b[1;32m      7\u001b[0m \u001b[0;34m\u001b[0m\u001b[0m\n\u001b[1;32m      8\u001b[0m \u001b[0mx_2\u001b[0m \u001b[0;34m=\u001b[0m \u001b[0mnp\u001b[0m\u001b[0;34m.\u001b[0m\u001b[0marange\u001b[0m\u001b[0;34m(\u001b[0m\u001b[0;34m-\u001b[0m\u001b[0;36m0.1\u001b[0m\u001b[0;34m,\u001b[0m \u001b[0;36m1.1\u001b[0m\u001b[0;34m,\u001b[0m \u001b[0;36m0.1\u001b[0m\u001b[0;34m)\u001b[0m\u001b[0;34m\u001b[0m\u001b[0;34m\u001b[0m\u001b[0m\n\u001b[0;32m----> 9\u001b[0;31m \u001b[0my_2\u001b[0m \u001b[0;34m=\u001b[0m \u001b[0;34m(\u001b[0m\u001b[0;34m(\u001b[0m\u001b[0mx_2\u001b[0m \u001b[0;34m*\u001b[0m \u001b[0mmodel_weights\u001b[0m\u001b[0;34m[\u001b[0m\u001b[0;36m1\u001b[0m\u001b[0;34m,\u001b[0m\u001b[0;36m0\u001b[0m\u001b[0;34m]\u001b[0m\u001b[0;34m)\u001b[0m \u001b[0;34m+\u001b[0m \u001b[0mmodel_bias\u001b[0m\u001b[0;34m[\u001b[0m\u001b[0;36m1\u001b[0m\u001b[0;34m]\u001b[0m\u001b[0;34m)\u001b[0m \u001b[0;34m/\u001b[0m \u001b[0;34m(\u001b[0m\u001b[0;34m-\u001b[0m\u001b[0mmodel_weights\u001b[0m\u001b[0;34m[\u001b[0m\u001b[0;36m1\u001b[0m\u001b[0;34m,\u001b[0m\u001b[0;36m1\u001b[0m\u001b[0;34m]\u001b[0m\u001b[0;34m)\u001b[0m\u001b[0;34m\u001b[0m\u001b[0;34m\u001b[0m\u001b[0m\n\u001b[0m\u001b[1;32m     10\u001b[0m \u001b[0mplt\u001b[0m\u001b[0;34m.\u001b[0m\u001b[0mplot\u001b[0m\u001b[0;34m(\u001b[0m\u001b[0mx_2\u001b[0m\u001b[0;34m,\u001b[0m \u001b[0my_2\u001b[0m\u001b[0;34m)\u001b[0m\u001b[0;34m\u001b[0m\u001b[0;34m\u001b[0m\u001b[0m\n\u001b[1;32m     11\u001b[0m \u001b[0mplt\u001b[0m\u001b[0;34m.\u001b[0m\u001b[0mlegend\u001b[0m\u001b[0;34m(\u001b[0m\u001b[0;34m[\u001b[0m\u001b[0;34m\"neuron_1\"\u001b[0m\u001b[0;34m,\u001b[0m \u001b[0;34m\"neuron_2\"\u001b[0m\u001b[0;34m]\u001b[0m\u001b[0;34m,\u001b[0m \u001b[0mloc\u001b[0m\u001b[0;34m=\u001b[0m\u001b[0;36m8\u001b[0m\u001b[0;34m)\u001b[0m\u001b[0;34m\u001b[0m\u001b[0;34m\u001b[0m\u001b[0m\n",
      "\u001b[0;31mIndexError\u001b[0m: index 1 is out of bounds for axis 0 with size 1"
     ]
    },
    {
     "data": {
      "image/png": "[encoded data removed]",
      "text/plain": [
       "<Figure size 432x288 with 1 Axes>"
      ]
     },
     "metadata": {
      "needs_background": "light"
     },
     "output_type": "display_data"
    }
   ],
   "source": [
    "plt.scatter(X.numpy()[[0,-1], 0], X.numpy()[[0, -1], 1], s=50)\n",
    "plt.scatter(X.numpy()[[1,2], 0], X.numpy()[[1, 2], 1], c='red', s=50)\n",
    "\n",
    "x_1 = np.arange(-0.1, 1.1, 0.1)\n",
    "y_1 = ((x_1 * model_weights[0,0]) + model_bias[0]) / (-model_weights[0,1])\n",
    "plt.plot(x_1, y_1)\n",
    "\n",
    "x_2 = np.arange(-0.1, 1.1, 0.1)\n",
    "y_2 = ((x_2 * model_weights[1,0]) + model_bias[1]) / (-model_weights[1,1])\n",
    "plt.plot(x_2, y_2)\n",
    "plt.legend([\"neuron_1\", \"neuron_2\"], loc=8)\n",
    "plt.show()"
   ]
  }
 ],
 "metadata": {
  "kernelspec": {
   "display_name": "Python 3.7.6 64-bit ('base': conda)",
   "language": "python",
   "name": "python37664bitbasecondaabcb389ab3fd4890a02c3633f21befb5"
  }
 },
 "nbformat": 4,
 "nbformat_minor": 4
}
